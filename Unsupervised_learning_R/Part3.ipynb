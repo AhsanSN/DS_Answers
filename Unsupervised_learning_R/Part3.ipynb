{
 "cells": [
  {
   "cell_type": "code",
   "execution_count": null,
   "metadata": {},
   "outputs": [],
   "source": [
    "# Perform scaled PCA: pr.out\n",
    "pr.out<-prcomp(pokemon,scale=T)\n",
    "\n",
    "# Inspect model output\n",
    "summary(pr.out)"
   ]
  },
  {
   "cell_type": "code",
   "execution_count": null,
   "metadata": {},
   "outputs": [],
   "source": [
    "# Variability of each principal component: pr.var\n",
    "pr.var <- pr.out$sdev^2\n",
    "\n",
    "# Variance explained by each principal component: pve\n",
    "pve <- pr.var / sum(pr.var)"
   ]
  },
  {
   "cell_type": "code",
   "execution_count": null,
   "metadata": {},
   "outputs": [],
   "source": [
    "# Plot variance explained for each principal component\n",
    "plot(pve, xlab = \"Principal Component\",\n",
    "     ylab = \"Proportion of Variance Explained\",\n",
    "     ylim = c(0, 1), type = \"b\")\n",
    "\n",
    "# Plot cumulative proportion of variance explained\n",
    "plot(cumsum(pve), xlab = \"Principal Component\",\n",
    "     ylab = \"Cumulative Proportion of Variance Explained\",\n",
    "     ylim = c(0, 1), type = \"b\")"
   ]
  },
  {
   "cell_type": "code",
   "execution_count": null,
   "metadata": {},
   "outputs": [],
   "source": [
    "# Mean of each variable\n",
    "colMeans(pokemon)\n",
    "\n",
    "# Standard deviation of each variable\n",
    "apply(pokemon, 2, sd)\n",
    "\n",
    "# PCA model with scaling: pr.with.scaling\n",
    "pr.with.scaling<-prcomp(pokemon,scale=T)\n",
    "\n",
    "# PCA model without scaling: pr.without.scaling\n",
    "pr.without.scaling<-prcomp(pokemon,scale=F)\n",
    "\n",
    "# Create biplots of both for comparison\n",
    "biplot(pr.with.scaling)\n",
    "biplot(pr.without.scaling)\n"
   ]
  },
  {
   "cell_type": "code",
   "execution_count": null,
   "metadata": {},
   "outputs": [],
   "source": []
  }
 ],
 "metadata": {
  "kernelspec": {
   "display_name": "Python 3",
   "language": "python",
   "name": "python3"
  },
  "language_info": {
   "codemirror_mode": {
    "name": "ipython",
    "version": 3
   },
   "file_extension": ".py",
   "mimetype": "text/x-python",
   "name": "python",
   "nbconvert_exporter": "python",
   "pygments_lexer": "ipython3",
   "version": "3.6.4"
  }
 },
 "nbformat": 4,
 "nbformat_minor": 2
}
