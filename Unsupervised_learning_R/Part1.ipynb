{
 "cells": [
  {
   "cell_type": "code",
   "execution_count": null,
   "metadata": {},
   "outputs": [],
   "source": [
    "# Create the k-means model: km.out\n",
    "km.out=kmeans(x,centers=3,nstart=20)\n",
    "\n",
    "# Inspect the result\n",
    "summary(km.out)"
   ]
  },
  {
   "cell_type": "code",
   "execution_count": null,
   "metadata": {},
   "outputs": [],
   "source": [
    "# Print the cluster membership component of the model\n",
    "print(km.out$cluster)\n",
    "\n",
    "# Print the km.out object\n",
    "km.out"
   ]
  },
  {
   "cell_type": "code",
   "execution_count": null,
   "metadata": {},
   "outputs": [],
   "source": [
    "# Scatter plot of x\n",
    "plot(x,col=km.out$cluster,main=\"k-means with 3 clusters\",xlab=\"\",ylab=\"\")"
   ]
  },
  {
   "cell_type": "code",
   "execution_count": null,
   "metadata": {},
   "outputs": [],
   "source": [
    "# Set up 2 x 3 plotting grid\n",
    "par(mfrow = c(2, 3))\n",
    "\n",
    "# Set seed\n",
    "set.seed(1)\n",
    "\n",
    "for(i in 1:6) {\n",
    "  # Run kmeans() on x with three clusters and one start\n",
    "  km.out <- kmeans(x, centers=3, nstart=1)\n",
    "  \n",
    "  # Plot clusters\n",
    "  plot(x, col = km.out$cluster, \n",
    "       main = km.out$tot.withinss, \n",
    "       xlab = \"\", ylab = \"\")\n",
    "}"
   ]
  },
  {
   "cell_type": "code",
   "execution_count": null,
   "metadata": {},
   "outputs": [],
   "source": [
    "# Initialize total within sum of squares error: wss\n",
    "wss <- 0\n",
    "\n",
    "# For 1 to 15 cluster centers\n",
    "for (i in 1:15) {\n",
    "  km.out <- kmeans(x, centers = i, nstart=20)\n",
    "  # Save total within sum of squares to wss variable\n",
    "  wss[i] <- km.out$tot.withinss\n",
    "}\n",
    "\n",
    "# Plot total within sum of squares vs. number of clusters\n",
    "plot(1:15, wss, type = \"b\", \n",
    "     xlab = \"Number of Clusters\", \n",
    "     ylab = \"Within groups sum of squares\")\n",
    "\n",
    "# Set k equal to the number of clusters corresponding to the elbow location\n",
    "k <- 2"
   ]
  },
  {
   "cell_type": "code",
   "execution_count": null,
   "metadata": {},
   "outputs": [],
   "source": [
    "# Initialize total within sum of squares error: wss\n",
    "wss <- 0\n",
    "\n",
    "# Look over 1 to 15 possible clusters\n",
    "for (i in 1:15) {\n",
    "  # Fit the model: km.out\n",
    "  km.out <- kmeans(pokemon, centers = i, nstart = 20, iter.max = 50)\n",
    "  # Save the within cluster sum of squares\n",
    "  wss[i] <- km.out$tot.withinss\n",
    "}\n",
    "\n",
    "# Produce a scree plot\n",
    "plot(1:15, wss, type = \"b\", \n",
    "     xlab = \"Number of Clusters\", \n",
    "     ylab = \"Within groups sum of squares\")\n",
    "\n",
    "# Select number of clusters\n",
    "k <- 4\n",
    "\n",
    "# Build model with k clusters: km.out\n",
    "km.out <- kmeans(pokemon, centers = k, nstart = 20, iter.max = 50)\n",
    "\n",
    "# View the resulting model\n",
    "km.out\n",
    "\n",
    "# Plot of Defense vs. Speed by cluster membership\n",
    "plot(pokemon[, c(\"Defense\", \"Speed\")],\n",
    "     col = km.out$cluster,\n",
    "     main = paste(\"k-means clustering of Pokemon with\", k, \"clusters\"),\n",
    "     xlab = \"Defense\", ylab = \"Speed\")"
   ]
  },
  {
   "cell_type": "code",
   "execution_count": null,
   "metadata": {},
   "outputs": [],
   "source": []
  }
 ],
 "metadata": {
  "kernelspec": {
   "display_name": "Python 3",
   "language": "python",
   "name": "python3"
  },
  "language_info": {
   "codemirror_mode": {
    "name": "ipython",
    "version": 3
   },
   "file_extension": ".py",
   "mimetype": "text/x-python",
   "name": "python",
   "nbconvert_exporter": "python",
   "pygments_lexer": "ipython3",
   "version": "3.6.4"
  }
 },
 "nbformat": 4,
 "nbformat_minor": 2
}
