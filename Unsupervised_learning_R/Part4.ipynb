{
 "cells": [
  {
   "cell_type": "code",
   "execution_count": null,
   "metadata": {},
   "outputs": [],
   "source": [
    "url <- \"http://s3.amazonaws.com/assets.datacamp.com/production/course_1903/datasets/WisconsinCancer.csv\"\n",
    "\n",
    "# Download the data: wisc.df\n",
    "wisc.df<-read.csv(url)\n",
    "\n",
    "# Convert the features of the data: wisc.data\n",
    "wisc.data<-as.matrix(wisc.df[3:32])\n",
    "\n",
    "# Set the row names of wisc.data\n",
    "row.names(wisc.data) <- wisc.df$id\n",
    "\n",
    "# Create diagnosis vector\n",
    "diagnosis <- as.numeric(wisc.df$diagnosis == \"M\")"
   ]
  },
  {
   "cell_type": "code",
   "execution_count": null,
   "metadata": {},
   "outputs": [],
   "source": [
    "# Check column means and standard deviations\n",
    "colMeans(wisc.data)\n",
    "apply(wisc.data,MARGIN=2,sd)\n",
    "# Execute PCA, scaling if appropriate: wisc.pr\n",
    "wisc.pr<-prcomp(wisc.data,scale=T)\n",
    "\n",
    "# Look at summary of results\n",
    "summary(wisc.pr)"
   ]
  },
  {
   "cell_type": "code",
   "execution_count": null,
   "metadata": {},
   "outputs": [],
   "source": [
    "# Create a biplot of wisc.pr\n",
    "biplot(wisc.pr)\n",
    "\n",
    "# Scatter plot observations by components 1 and 2\n",
    "plot(wisc.pr$x[, c(1, 2)], col = (diagnosis + 1), \n",
    "     xlab = \"PC1\", ylab = \"PC2\")\n",
    "\n",
    "# Repeat for components 1 and 3\n",
    "plot(wisc.pr$x[, c(1, 3)], col = (diagnosis + 1), \n",
    "     xlab = \"PC1\", ylab = \"PC3\")\n",
    "\n",
    "# Do additional data exploration of your choosing below (optional)\n"
   ]
  },
  {
   "cell_type": "code",
   "execution_count": null,
   "metadata": {},
   "outputs": [],
   "source": [
    "# Set up 1 x 2 plotting grid\n",
    "par(mfrow = c(1, 2))\n",
    "\n",
    "# Calculate variability of each component\n",
    "pr.var<-wisc.pr$sdev^2\n",
    "\n",
    "# Variance explained by each principal component: pve\n",
    "pve<-pr.var/sum(pr.var)\n",
    "\n",
    "# Plot variance explained for each principal component\n",
    "plot(pve, xlab = \"Principal Component\", \n",
    "     ylab = \"Proportion of Variance Explained\", \n",
    "     ylim = c(0, 1), type = \"b\")\n",
    "\n",
    "# Plot cumulative proportion of variance explained\n",
    "plot(cumsum(pve), xlab = \"Principal Component\", \n",
    "     ylab = \"Cumulative Proportion of Variance Explained\", \n",
    "     ylim = c(0, 1), type = \"b\")"
   ]
  },
  {
   "cell_type": "code",
   "execution_count": null,
   "metadata": {},
   "outputs": [],
   "source": [
    "# Scale the wisc.data data: data.scaled\n",
    "data.scaled<-scale(wisc.data)\n",
    "\n",
    "# Calculate the (Euclidean) distances: data.dist\n",
    "data.dist<-dist(data.scaled)\n",
    "\n",
    "# Create a hierarchical clustering model: wisc.hclust\n",
    "wisc.hclust<-hclust(data.dist,method=\"complete\")"
   ]
  },
  {
   "cell_type": "code",
   "execution_count": null,
   "metadata": {},
   "outputs": [],
   "source": [
    "# Cut tree so that it has 4 clusters: wisc.hclust.clusters\n",
    "wisc.hclust.clusters<-cutree(wisc.hclust,k=4)\n",
    "\n",
    "# Compare cluster membership to actual diagnoses\n",
    "table(diagnosis,wisc.hclust.clusters)"
   ]
  },
  {
   "cell_type": "code",
   "execution_count": null,
   "metadata": {},
   "outputs": [],
   "source": [
    "# Create a k-means model on wisc.data: wisc.km\n",
    "wisc.km <- kmeans(scale(wisc.data),centers=2,nstart=20)\n",
    "\n",
    "# Compare k-means to actual diagnoses\n",
    "table(diagnosis,wisc.km$cluster)\n",
    "\n",
    "# Compare k-means to hierarchical clustering\n",
    "table(wisc.hclust.clusters,wisc.km$cluster)"
   ]
  },
  {
   "cell_type": "code",
   "execution_count": null,
   "metadata": {},
   "outputs": [],
   "source": [
    "# Create a hierarchical clustering model: wisc.pr.hclust\n",
    "wisc.pr.hclust <- hclust(dist(wisc.pr$x[, 1:7]), method = \"complete\")\n",
    "\n",
    "# Cut model into 4 clusters: wisc.pr.hclust.clusters\n",
    "wisc.pr.hclust.clusters<-cutree(wisc.pr.hclust,k=4)\n",
    "\n",
    "# Compare to actual diagnoses\n",
    "table(diagnosis,wisc.pr.hclust.clusters)\n",
    "\n",
    "# Compare to k-means and hierarchical\n",
    "table(wisc.hclust.clusters,diagnosis)\n",
    "table(wisc.km$cluster,diagnosis)"
   ]
  }
 ],
 "metadata": {
  "kernelspec": {
   "display_name": "Python 3",
   "language": "python",
   "name": "python3"
  },
  "language_info": {
   "codemirror_mode": {
    "name": "ipython",
    "version": 3
   },
   "file_extension": ".py",
   "mimetype": "text/x-python",
   "name": "python",
   "nbconvert_exporter": "python",
   "pygments_lexer": "ipython3",
   "version": "3.6.4"
  }
 },
 "nbformat": 4,
 "nbformat_minor": 2
}
