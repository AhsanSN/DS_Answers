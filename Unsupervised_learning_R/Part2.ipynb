{
 "cells": [
  {
   "cell_type": "code",
   "execution_count": null,
   "metadata": {},
   "outputs": [],
   "source": [
    "# Create hierarchical clustering model: hclust.out\n",
    "hclust.out <- hclust(dist(x))\n",
    "\n",
    "# Inspect the result\n",
    "summary(hclust.out)"
   ]
  },
  {
   "cell_type": "code",
   "execution_count": null,
   "metadata": {},
   "outputs": [],
   "source": [
    "# Cut by height\n",
    "cutree(hclust.out,h=7)\n",
    "\n",
    "# Cut by number of clusters\n",
    "cutree(hclust.out,k=3)"
   ]
  },
  {
   "cell_type": "code",
   "execution_count": null,
   "metadata": {},
   "outputs": [],
   "source": [
    "# Cluster using complete linkage: hclust.complete\n",
    "hclust.complete <- hclust(dist(x), method = \"complete\")\n",
    "\n",
    "# Cluster using average linkage: hclust.average\n",
    "hclust.average <- hclust(dist(x), method = \"average\")\n",
    "\n",
    "# Cluster using single linkage: hclust.single\n",
    "hclust.single <- hclust(dist(x), method = \"single\")\n",
    "\n",
    "# Plot dendrogram of hclust.complete\n",
    "plot(hclust.complete,main=\"Complete\")\n",
    "\n",
    "# Plot dendrogram of hclust.average\n",
    "plot(hclust.average,main=\"Average\")\n",
    "\n",
    "# Plot dendrogram of hclust.single\n",
    "plot(hclust.single,main=\"Single\")"
   ]
  },
  {
   "cell_type": "code",
   "execution_count": null,
   "metadata": {},
   "outputs": [],
   "source": [
    "# View column means\n",
    "colMeans(pokemon)\n",
    "\n",
    "# View column standard deviations\n",
    "apply(pokemon,2,sd)\n",
    "\n",
    "# Scale the data\n",
    "pokemon.scaled<-scale(pokemon)\n",
    "\n",
    "# Create hierarchical clustering model: hclust.pokemon\n",
    "hclust.pokemon<-hclust(dist(pokemon.scaled),method=\"complete\")"
   ]
  },
  {
   "cell_type": "code",
   "execution_count": null,
   "metadata": {},
   "outputs": [],
   "source": [
    "# Apply cutree() to hclust.pokemon: cut.pokemon\n",
    "cut.pokemon<-cutree(hclust.pokemon,k=3)\n",
    "\n",
    "# Compare methods\n",
    "table(km.pokemon$cluster, cut.pokemon)"
   ]
  }
 ],
 "metadata": {
  "kernelspec": {
   "display_name": "Python 3",
   "language": "python",
   "name": "python3"
  },
  "language_info": {
   "codemirror_mode": {
    "name": "ipython",
    "version": 3
   },
   "file_extension": ".py",
   "mimetype": "text/x-python",
   "name": "python",
   "nbconvert_exporter": "python",
   "pygments_lexer": "ipython3",
   "version": "3.6.4"
  }
 },
 "nbformat": 4,
 "nbformat_minor": 2
}
