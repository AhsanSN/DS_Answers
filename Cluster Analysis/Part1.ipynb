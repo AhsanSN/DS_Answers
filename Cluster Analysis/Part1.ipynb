{
 "cells": [
  {
   "cell_type": "code",
   "execution_count": null,
   "metadata": {},
   "outputs": [],
   "source": [
    "# Plot the positions of the players\n",
    "ggplot(two_players, aes(x = x, y = y)) + \n",
    "  geom_point() +\n",
    "  # Assuming a 40x60 field\n",
    "  lims(x = c(-30,30), y = c(-20, 20))\n",
    "\n",
    "# Split the players data frame into two observations\n",
    "player1 <- two_players[1, ]\n",
    "player2 <- two_players[2, ]\n",
    "\n",
    "# Calculate and print their distance using the Euclidean Distance formula\n",
    "player_distance <- sqrt( (player1$x - player2$x)^2 + (player1$y - player2$y)^2 )\n",
    "player_distance"
   ]
  },
  {
   "cell_type": "code",
   "execution_count": null,
   "metadata": {},
   "outputs": [],
   "source": [
    "# Calculate the Distance Between two_players\n",
    "dist_two_players <- dist(two_players)\n",
    "dist_two_players\n",
    "\n",
    "# Calculate the Distance Between three_players\n",
    "dist_three_players <- dist(three_players)\n",
    "dist_three_players"
   ]
  },
  {
   "cell_type": "code",
   "execution_count": null,
   "metadata": {},
   "outputs": [],
   "source": [
    "# Calculate distance for three_trees \n",
    "dist_trees <- dist(three_trees)\n",
    "\n",
    "# Scale three trees & calculate the distance  \n",
    "scaled_three_trees <- scale(three_trees)\n",
    "dist_scaled_trees <- dist(scaled_three_trees)\n",
    "\n",
    "# Output the results of both Matrices\n",
    "print('Without Scaling')\n",
    "dist_trees\n",
    "\n",
    "print('With Scaling')\n",
    "dist_scaled_trees"
   ]
  },
  {
   "cell_type": "code",
   "execution_count": null,
   "metadata": {},
   "outputs": [],
   "source": [
    "# Dummify the Survey Data\n",
    "dummy_survey <- dummy.data.frame(job_survey)\n",
    "\n",
    "# Calculate the Distance\n",
    "dist_survey <- dist(dummy_survey,method='binary')\n",
    "\n",
    "# Print the Original Data\n",
    "job_survey\n",
    "\n",
    "# Print the Distance Matrix\n",
    "dist_survey"
   ]
  }
 ],
 "metadata": {
  "kernelspec": {
   "display_name": "Python 3",
   "language": "python",
   "name": "python3"
  },
  "language_info": {
   "codemirror_mode": {
    "name": "ipython",
    "version": 3
   },
   "file_extension": ".py",
   "mimetype": "text/x-python",
   "name": "python",
   "nbconvert_exporter": "python",
   "pygments_lexer": "ipython3",
   "version": "3.6.4"
  }
 },
 "nbformat": 4,
 "nbformat_minor": 2
}
