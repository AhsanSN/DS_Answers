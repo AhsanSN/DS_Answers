{
 "cells": [
  {
   "cell_type": "code",
   "execution_count": null,
   "metadata": {},
   "outputs": [],
   "source": [
    "# Calculate Euclidean distance between the occupations\n",
    "dist_oes <- dist(oes, method = \"euclidean\")\n",
    "\n",
    "# Generate an average linkage analysis \n",
    "hc_oes <- hclust(dist_oes, method = \"average\")\n",
    "\n",
    "# Create a dendrogram object from the hclust variable\n",
    "dend_oes <- as.dendrogram(hc_oes)\n",
    "\n",
    "# Plot the dendrogram\n",
    "plot(dend_oes)\n",
    "\n",
    "# Color branches by cluster formed from the cut at a height of 100000\n",
    "dend_colored <- color_branches(dend_oes, h = 100000)\n",
    "\n",
    "# Plot the colored dendrogram\n",
    "plot(dend_colored)"
   ]
  },
  {
   "cell_type": "code",
   "execution_count": null,
   "metadata": {},
   "outputs": [],
   "source": [
    "dist_oes <- dist(oes, method = 'euclidean')\n",
    "hc_oes <- hclust(dist_oes, method = 'average')\n",
    "\n",
    "library(tibble)\n",
    "library(tidyr)\n",
    "\n",
    "# Use rownames_to_column to move the rownames into a column of the data frame\n",
    "df_oes <- rownames_to_column(as.data.frame(oes), var = 'occupation')\n",
    "\n",
    "# Create a cluster assignment vector at h = 100,000\n",
    "cut_oes <- cutree(hc_oes, h = 100000)\n",
    "\n",
    "# Generate the segmented the oes data frame\n",
    "clust_oes <- mutate(df_oes, cluster = cut_oes)\n",
    "\n",
    "# Create a tidy data frame by gathering the year and values into two columns\n",
    "gathered_oes <- gather(data = clust_oes, \n",
    "                       key = year, \n",
    "                       value = mean_salary, \n",
    "                       -occupation, -cluster)"
   ]
  },
  {
   "cell_type": "code",
   "execution_count": null,
   "metadata": {},
   "outputs": [],
   "source": [
    "# View the clustering assignments by sorting the cluster assignment vector\n",
    "sort(cut_oes)\n",
    "\n",
    "# Plot the relationship between mean_salary and year and color the lines by the assigned cluster\n",
    "ggplot(gathered_oes, aes(x = year, y = mean_salary, color = factor(cluster))) + \n",
    "    geom_line(aes(group = occupation))\n"
   ]
  },
  {
   "cell_type": "code",
   "execution_count": null,
   "metadata": {},
   "outputs": [],
   "source": [
    "# Use map_dbl to run many models with varying value of k (centers)\n",
    "tot_withinss <- map_dbl(1:10,  function(k){\n",
    "  model <- kmeans(x = oes, centers = k)\n",
    "  model$tot.withinss\n",
    "})\n",
    "\n",
    "# Generate a data frame containing both k and tot_withinss\n",
    "elbow_df <- data.frame(\n",
    "  k = 1:10,\n",
    "  tot_withinss = tot_withinss\n",
    ")\n",
    "\n",
    "# Plot the elbow plot\n",
    "ggplot(elbow_df, aes(x = k, y = tot_withinss)) +\n",
    "  geom_line() +\n",
    "  scale_x_continuous(breaks = 1:10)"
   ]
  },
  {
   "cell_type": "code",
   "execution_count": null,
   "metadata": {},
   "outputs": [],
   "source": [
    "# Use map_dbl to run many models with varying value of k\n",
    "sil_width <- map_dbl(2:10,  function(k){\n",
    "  model <- pam(oes, k = k)\n",
    "  model$silinfo$avg.width\n",
    "})\n",
    "\n",
    "# Generate a data frame containing both k and sil_width\n",
    "sil_df <- data.frame(\n",
    "  k = 2:10,\n",
    "  sil_width = sil_width\n",
    ")\n",
    "\n",
    "# Plot the relationship between k and sil_width\n",
    "ggplot(sil_df, aes(x = k, y = sil_width)) +\n",
    "  geom_line() +\n",
    "  scale_x_continuous(breaks = 2:10)"
   ]
  }
 ],
 "metadata": {
  "kernelspec": {
   "display_name": "Python 3",
   "language": "python",
   "name": "python3"
  },
  "language_info": {
   "codemirror_mode": {
    "name": "ipython",
    "version": 3
   },
   "file_extension": ".py",
   "mimetype": "text/x-python",
   "name": "python",
   "nbconvert_exporter": "python",
   "pygments_lexer": "ipython3",
   "version": "3.6.4"
  }
 },
 "nbformat": 4,
 "nbformat_minor": 2
}
