{
 "cells": [
  {
   "cell_type": "code",
   "execution_count": null,
   "metadata": {},
   "outputs": [],
   "source": [
    "# Extract the pair distances\n",
    "distance_1_2 <- dist_players[1]\n",
    "distance_1_3 <- dist_players[2]\n",
    "distance_2_3 <- dist_players[3]\n",
    "\n",
    "# Calculate the complete distance between group 1-2 and 3\n",
    "complete <- max(c(distance_1_3, distance_2_3))\n",
    "complete\n",
    "\n",
    "# Calculate the single distance between group 1-2 and 3\n",
    "single <- min(c(distance_1_3,distance_2_3))\n",
    "single\n",
    "\n",
    "# Calculate the average distance between group 1-2 and 3\n",
    "average <- mean(c(distance_1_3,distance_2_3))\n",
    "average\n"
   ]
  },
  {
   "cell_type": "code",
   "execution_count": null,
   "metadata": {},
   "outputs": [],
   "source": [
    "# Calculate the Distance\n",
    "dist_players <- dist(lineup)\n",
    "\n",
    "# Perform the hierarchical clustering using the complete linkage\n",
    "hc_players <- hclust(dist_players,method=\"complete\")\n",
    "\n",
    "# Calculate the assignment vector with a k of 2\n",
    "clusters_k2 <- cutree(hc_players,k=2)\n",
    "\n",
    "# Create a new data frame storing these results\n",
    "lineup_k2_complete <- mutate(lineup, cluster = clusters_k2)"
   ]
  },
  {
   "cell_type": "code",
   "execution_count": null,
   "metadata": {},
   "outputs": [],
   "source": [
    "# Count the cluster assignments\n",
    "count(lineup_k2_complete, cluster)\n",
    "\n",
    "# Plot the positions of the players and color them using their cluster\n",
    "ggplot(lineup_k2_complete, aes(x = x, y = y, color = factor(cluster))) +\n",
    "  geom_point()"
   ]
  },
  {
   "cell_type": "code",
   "execution_count": null,
   "metadata": {},
   "outputs": [],
   "source": [
    "# Prepare the Distance Matrix\n",
    "dist_players <- dist(lineup)\n",
    "\n",
    "# Generate hclust for complete, single & average linkage methods\n",
    "hc_complete <- hclust(dist_players,method=\"complete\")\n",
    "hc_single <- hclust(dist_players,method=\"single\")\n",
    "hc_average <- hclust(dist_players,method=\"average\")\n",
    "\n",
    "# Plot & Label the 3 Dendrograms Side-by-Side\n",
    "# Hint: To see these Side-by-Side run the 4 lines together as one command\n",
    "par(mfrow = c(1,3))\n",
    "plot(hc_complete, main = 'Complete Linkage')\n",
    "plot(hc_single, main = 'Single Linkage')\n",
    "plot(hc_average, main = 'Average Linkage')"
   ]
  },
  {
   "cell_type": "code",
   "execution_count": null,
   "metadata": {},
   "outputs": [],
   "source": [
    "library(dendextend)\n",
    "dist_players <- dist(lineup, method = 'euclidean')\n",
    "hc_players <- hclust(dist_players, method = \"complete\")\n",
    "\n",
    "# Create a dendrogram object from the hclust variable\n",
    "dend_players <- as.dendrogram(hc_players)\n",
    "\n",
    "# Plot the dendrogram\n",
    "plot(dend_players)\n",
    "\n",
    "# Color branches by cluster formed from the cut at a height of 20 & plot\n",
    "dend_20 <- color_branches(dend_players, h = 20)\n",
    "\n",
    "# Plot the dendrogram with clusters colored below height 20\n",
    "plot(dend_20)\n",
    "\n",
    "# Color branches by cluster formed from the cut at a height of 40 & plot\n",
    "dend_40 <- color_branches(dend_players, h = 40)\n",
    "\n",
    "# Plot the dendrogram with clusters colored below height 40\n",
    "plot(dend_40)\n"
   ]
  },
  {
   "cell_type": "code",
   "execution_count": null,
   "metadata": {},
   "outputs": [],
   "source": [
    "dist_players <- dist(lineup, method = 'euclidean')\n",
    "hc_players <- hclust(dist_players, method = \"complete\")\n",
    "\n",
    "# Calculate the assignment vector with a h of 20\n",
    "clusters_h20 <- cutree(hc_players,h=20)\n",
    "\n",
    "# Create a new data frame storing these results\n",
    "lineup_h20_complete <- mutate(lineup, cluster = clusters_h20)\n",
    "\n",
    "# Calculate the assignment vector with a h of 40\n",
    "clusters_h40 <- cutree(hc_players,h=40)\n",
    "\n",
    "# Create a new data frame storing these results\n",
    "lineup_h40_complete <- mutate(lineup,cluster=clusters_h40)\n",
    "\n",
    "# Plot the positions of the players and color them using their cluster for height = 20\n",
    "ggplot(lineup_h20_complete, aes(x = x, y = y, color = factor(cluster))) +\n",
    "  geom_point()\n",
    "\n",
    "# Plot the positions of the players and color them using their cluster for height = 40\n",
    "ggplot(lineup_h40_complete, aes(x = x, y = y, color = factor(cluster))) +\n",
    "  geom_point()\n",
    "\n"
   ]
  },
  {
   "cell_type": "code",
   "execution_count": null,
   "metadata": {},
   "outputs": [],
   "source": [
    "# Calculate Euclidean distance between customers\n",
    "dist_customers <- dist(customers_spend)\n",
    "\n",
    "# Generate a complete linkage analysis \n",
    "hc_customers <- hclust(dist_customers,method=\"complete\")\n",
    "\n",
    "# Plot the dendrogram\n",
    "plot(hc_customers)\n",
    "\n",
    "# Create a cluster assignment vector at h = 15000\n",
    "clust_customers <- cutree(hc_customers,h=15000)\n",
    "\n",
    "# Generate the segmented customers data frame\n",
    "segment_customers <- mutate(customers_spend, cluster = clust_customers)"
   ]
  },
  {
   "cell_type": "code",
   "execution_count": null,
   "metadata": {},
   "outputs": [],
   "source": [
    "dist_customers <- dist(customers_spend)\n",
    "hc_customers <- hclust(dist_customers)\n",
    "clust_customers <- cutree(hc_customers, h = 15000)\n",
    "segment_customers <- mutate(customers_spend, cluster = clust_customers)\n",
    "\n",
    "# Count the number of customers that fall into each cluster\n",
    "count(segment_customers, cluster)\n",
    "\n",
    "# Color the dendrogram based on the height cutoff\n",
    "dend_customers <- as.dendrogram(hc_customers)\n",
    "dend_colored <- color_branches(dend_customers, h=15000)\n",
    "\n",
    "# Plot the colored dendrogram\n",
    "plot(dend_colored)\n",
    "\n",
    "# Calculate the mean for each category\n",
    "segment_customers %>% \n",
    "  group_by(cluster) %>% \n",
    "  summarise_all(funs(mean(.)))"
   ]
  }
 ],
 "metadata": {
  "kernelspec": {
   "display_name": "Python 3",
   "language": "python",
   "name": "python3"
  },
  "language_info": {
   "codemirror_mode": {
    "name": "ipython",
    "version": 3
   },
   "file_extension": ".py",
   "mimetype": "text/x-python",
   "name": "python",
   "nbconvert_exporter": "python",
   "pygments_lexer": "ipython3",
   "version": "3.6.4"
  }
 },
 "nbformat": 4,
 "nbformat_minor": 2
}
