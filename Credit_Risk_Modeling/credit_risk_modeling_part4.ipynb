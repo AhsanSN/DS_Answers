{
 "cells": [
  {
   "cell_type": "code",
   "execution_count": null,
   "metadata": {},
   "outputs": [],
   "source": [
    "# Make predictions for the probability of default using the pruned tree and the test set.\n",
    "prob_default_prior <- predict(ptree_prior, newdata = test_set)[ ,2]\n",
    "\n",
    "# Obtain the cutoff for acceptance rate 80%\n",
    "cutoff_prior<-quantile(prob_default_prior,0.8)\n",
    "\n",
    "# Obtain the binary predictions.\n",
    "bin_pred_prior_80 <- ifelse(prob_default_prior > cutoff_prior, 1, 0)\n",
    "\n",
    "# Obtain the actual default status for the accepted loans\n",
    "accepted_status_prior_80 <- test_set$loan_status[bin_pred_prior_80 == 0]\n",
    "\n",
    "# Obtain the bad rate for the accepted loans\n",
    "sum(accepted_status_prior_80)/length(accepted_status_prior_80)\n"
   ]
  },
  {
   "cell_type": "code",
   "execution_count": null,
   "metadata": {},
   "outputs": [],
   "source": [
    "# Have a look at the function strategy_bank\n",
    "strategy_bank\n",
    "\n",
    "# Apply the function strategy_bank to both predictions_cloglog and predictions_loss_matrix\n",
    "strategy_cloglog<-strategy_bank(predictions_cloglog)\n",
    "strategy_loss_matrix<-strategy_bank(predictions_loss_matrix)\n",
    "\n",
    "# Obtain the strategy tables for both prediction-vectors\n",
    "strategy_cloglog$table\n",
    "strategy_loss_matrix$table\n",
    "# Plot the strategy functions\n",
    "par(mfrow = c(1,2))\n",
    "plot(strategy_cloglog$accept_rate, strategy_cloglog$bad_rate, \n",
    "     type = \"l\", xlab = \"Acceptance rate\", ylab = \"Bad rate\", \n",
    "     lwd = 2, main = \"logistic regression\")\n",
    "\n",
    "plot(strategy_loss_matrix$accept_rate, strategy_loss_matrix$bad_rate, \n",
    "     type = \"l\", xlab = \"Acceptance rate\", \n",
    "     ylab = \"Bad rate\", lwd = 2, main = \"tree\")"
   ]
  },
  {
   "cell_type": "code",
   "execution_count": null,
   "metadata": {},
   "outputs": [],
   "source": [
    "# Load the pROC-package\n",
    "library(pROC)\n",
    "\n",
    "# Construct the objects containing ROC-information\n",
    "ROC_logit <- roc(test_set$loan_status, predictions_logit)\n",
    "ROC_probit <- roc(test_set$loan_status, predictions_probit)\n",
    "ROC_cloglog <- roc(test_set$loan_status, predictions_cloglog)\n",
    "ROC_all_full <- roc(test_set$loan_status, predictions_all_full)\n",
    "\n",
    "# Draw all ROCs on one plot\n",
    "plot(ROC_logit)\n",
    "lines(ROC_probit, col=\"blue\")\n",
    "lines(ROC_cloglog, col=\"red\")\n",
    "lines(ROC_all_full, col=\"green\")\n",
    "\n",
    "# Compute the AUCs\n",
    "auc(ROC_logit)\n",
    "auc(ROC_probit)\n",
    "auc(ROC_cloglog)\n",
    "auc(ROC_all_full)"
   ]
  },
  {
   "cell_type": "code",
   "execution_count": null,
   "metadata": {},
   "outputs": [],
   "source": [
    "# Construct the objects containing ROC-information\n",
    "ROC_undersample <- roc(test_set$loan_status,predictions_undersample)\n",
    "ROC_prior <- roc(test_set$loan_status,predictions_prior)\n",
    "ROC_loss_matrix <- roc(test_set$loan_status,predictions_loss_matrix)\n",
    "ROC_weights <- roc(test_set$loan_status,predictions_weights)\n",
    "\n",
    "# Draw the ROC-curves in one plot\n",
    "plot(ROC_undersample)\n",
    "lines(ROC_prior,col=\"blue\")\n",
    "lines(ROC_loss_matrix,col=\"red\")\n",
    "lines(ROC_weights,col=\"green\")    \n",
    "\n",
    "# Compute the AUCs\n",
    "auc(ROC_undersample)\n",
    "auc(ROC_prior)\n",
    "auc(ROC_loss_matrix)\n",
    "auc(ROC_weights)"
   ]
  },
  {
   "cell_type": "code",
   "execution_count": null,
   "metadata": {},
   "outputs": [],
   "source": [
    "# Build four models each time deleting one variable in log_3_remove_ir\n",
    "log_4_remove_amnt <- glm(loan_status ~ grade + annual_inc + emp_cat, \n",
    "                        family = binomial, data = training_set) \n",
    "log_4_remove_grade <- glm(loan_status ~ loan_amnt + annual_inc + emp_cat, family = binomial, data = training_set)\n",
    "log_4_remove_inc <- glm(loan_status ~ loan_amnt + grade + emp_cat, family = binomial, data = training_set)\n",
    "log_4_remove_emp <- glm(loan_status ~ loan_amnt + grade + annual_inc, family = binomial, data = training_set)\n",
    "\n",
    "# Make PD-predictions for each of the models\n",
    "pred_4_remove_amnt <- predict(log_4_remove_amnt, newdata = test_set, type = \"response\")\n",
    "pred_4_remove_grade <- predict(log_4_remove_grade, newdata = test_set, type = \"response\")\n",
    "pred_4_remove_inc <- predict(log_4_remove_inc, newdata = test_set, type = \"response\")\n",
    "pred_4_remove_emp <- predict(log_4_remove_emp, newdata = test_set, type = \"response\")\n",
    "\n",
    "# Compute the AUCs\n",
    "auc(test_set$loan_status,pred_4_remove_amnt)\n",
    "auc(test_set$loan_status,pred_4_remove_grade)  \n",
    "auc(test_set$loan_status,pred_4_remove_inc)  \n",
    "auc(test_set$loan_status,pred_4_remove_emp)"
   ]
  }
 ],
 "metadata": {
  "kernelspec": {
   "display_name": "Python 3",
   "language": "python",
   "name": "python3"
  },
  "language_info": {
   "codemirror_mode": {
    "name": "ipython",
    "version": 3
   },
   "file_extension": ".py",
   "mimetype": "text/x-python",
   "name": "python",
   "nbconvert_exporter": "python",
   "pygments_lexer": "ipython3",
   "version": "3.6.4"
  }
 },
 "nbformat": 4,
 "nbformat_minor": 2
}
