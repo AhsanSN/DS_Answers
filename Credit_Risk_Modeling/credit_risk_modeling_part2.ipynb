{
 "cells": [
  {
   "cell_type": "code",
   "execution_count": null,
   "metadata": {},
   "outputs": [],
   "source": [
    "# Build a glm model with variable ir_cat as a predictor\n",
    "log_model_cat<-glm(loan_status ~ ir_cat,family=\"binomial\",data=training_set)\n",
    "\n",
    "\n",
    "# Print the parameter estimates \n",
    "log_model_cat\n",
    "\n",
    "# Look at the different categories in ir_cat using table()\n",
    "table(loan_data$ir_cat)"
   ]
  },
  {
   "cell_type": "code",
   "execution_count": null,
   "metadata": {},
   "outputs": [],
   "source": [
    "# Build the logistic regression model\n",
    "log_model_multi<-glm(loan_status ~ age+ir_cat+grade+loan_amnt+annual_inc,data=training_set,family=\"binomial\")\n",
    "\n",
    "\n",
    "# Obtain significance levels using summary()\n",
    "summary(log_model_multi)"
   ]
  },
  {
   "cell_type": "code",
   "execution_count": null,
   "metadata": {},
   "outputs": [],
   "source": [
    "# Build the logistic regression model\n",
    "predictions_all_small <- predict(log_model_small, newdata = test_set, type = \"response\")\n",
    "\n",
    "# Look at the range of the object \"predictions_all_small\"\n",
    "range(predictions_all_small)"
   ]
  },
  {
   "cell_type": "code",
   "execution_count": null,
   "metadata": {},
   "outputs": [],
   "source": [
    "# Change the code below to construct a logistic regression model using all available predictors in the data set\n",
    "log_model_full <- glm(loan_status ~ ., family = \"binomial\", data = training_set)\n",
    "\n",
    "# Make PD-predictions for all test set elements using the the full logistic regression model\n",
    "predictions_all_full<-predict(log_model_full, newdata = test_set, type = \"response\")\n",
    "\n",
    "# Look at the predictions range\n",
    "\n",
    "range(predictions_all_full)"
   ]
  },
  {
   "cell_type": "code",
   "execution_count": null,
   "metadata": {},
   "outputs": [],
   "source": [
    "# The code for the logistic regression model and the predictions is given below\n",
    "log_model_full <- glm(loan_status ~ ., family = \"binomial\", data = training_set)\n",
    "predictions_all_full <- predict(log_model_full, newdata = test_set, type = \"response\")\n",
    "\n",
    "# Make a binary predictions-vector using a cut-off of 15%\n",
    "pred_cutoff_15<-ifelse(predictions_all_full>0.15,1,0)\n",
    "\n",
    "# Construct a confusion matrix\n",
    "table(test_set$loan_status,pred_cutoff_15)"
   ]
  },
  {
   "cell_type": "code",
   "execution_count": null,
   "metadata": {},
   "outputs": [],
   "source": [
    "# Fit the logit, probit and cloglog-link logistic regression models\n",
    "log_model_logit <- glm(loan_status ~ age + emp_cat + ir_cat + loan_amnt,\n",
    "                       family = binomial(link = logit), data = training_set)\n",
    "log_model_probit <- glm(loan_status ~ age + emp_cat + ir_cat + loan_amnt,\n",
    "                       family = binomial(link = probit), data = training_set)\n",
    "\n",
    "log_model_cloglog <-  glm(loan_status ~ age + emp_cat + ir_cat + loan_amnt,\n",
    "                       family = binomial(link = cloglog), data = training_set)\n",
    "  \n",
    "# Make predictions for all models using the test set\n",
    "predictions_logit <- predict(log_model_logit, newdata = test_set, type = \"response\")\n",
    "predictions_probit <- predict(log_model_probit, newdata = test_set, type = \"response\")\n",
    "predictions_cloglog <- predict(log_model_cloglog, newdata = test_set, type = \"response\")\n",
    "  \n",
    "# Use a cut-off of 14% to make binary predictions-vectors\n",
    "cutoff <- 0.14\n",
    "class_pred_logit <- ifelse(predictions_logit > cutoff, 1, 0)\n",
    "class_pred_probit <- ifelse(predictions_probit > cutoff, 1, 0) \n",
    "class_pred_cloglog <- ifelse(predictions_cloglog > cutoff, 1, 0)\n",
    "  \n",
    "# Make a confusion matrix for the three models\n",
    "tab_class_logit <- table(true_val,class_pred_logit)\n",
    "tab_class_probit <- table(true_val,class_pred_probit) \n",
    "tab_class_cloglog <- table(true_val,class_pred_cloglog)\n",
    "  \n",
    "# Compute the classification accuracy for all three models\n",
    "acc_logit <- sum(diag(tab_class_logit)) / nrow(test_set)\n",
    "acc_probit <- sum(diag(tab_class_probit)) / nrow(test_set) \n",
    "acc_cloglog <- sum(diag(tab_class_cloglog)) / nrow(test_set)"
   ]
  }
 ],
 "metadata": {
  "kernelspec": {
   "display_name": "Python 3",
   "language": "python",
   "name": "python3"
  },
  "language_info": {
   "codemirror_mode": {
    "name": "ipython",
    "version": 3
   },
   "file_extension": ".py",
   "mimetype": "text/x-python",
   "name": "python",
   "nbconvert_exporter": "python",
   "pygments_lexer": "ipython3",
   "version": "3.6.4"
  }
 },
 "nbformat": 4,
 "nbformat_minor": 2
}
