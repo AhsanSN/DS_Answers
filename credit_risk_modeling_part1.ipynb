{
 "cells": [
  {
   "cell_type": "code",
   "execution_count": null,
   "metadata": {},
   "outputs": [],
   "source": [
    "# View the structure of loan_data\n",
    "str(loan_data)\n",
    "\n",
    "# Load the gmodels package \n",
    "library(gmodels)\n",
    "\n",
    "# Call CrossTable() on loan_status\n",
    "CrossTable(loan_data$loan_status)\n",
    "\n",
    "# Call CrossTable() on grade and loan_status\n",
    "CrossTable(loan_data$grade,loan_data$loan_status,prop.r=T,prop.c=F,prop.chisq=F,prop.t=F)\n"
   ]
  },
  {
   "cell_type": "code",
   "execution_count": null,
   "metadata": {},
   "outputs": [],
   "source": [
    "# Create histogram of loan_amnt: hist_1\n",
    "hist_1<-hist(loan_data$loan_amnt)\n",
    "\n",
    "# Print locations of the breaks in hist_1\n",
    "hist_1$breaks\n",
    "\n",
    "# Change number of breaks and add labels: hist_2\n",
    "hist_2 <- hist(loan_data$loan_amnt, breaks = 200, xlab = \"Loan amount\", \n",
    "               main = \"Histogram of the loan amount\")"
   ]
  },
  {
   "cell_type": "code",
   "execution_count": null,
   "metadata": {},
   "outputs": [],
   "source": [
    "# Plot the age variable\n",
    "plot(loan_data$age,ylab=\"Age\")\n",
    "\n",
    "# Save the outlier's index to index_highage\n",
    "index_highage<-which(loan_data$age > 122)\n",
    "\n",
    "# Create data set new_data with outlier deleted\n",
    "new_data <- loan_data[-index_highage, ]\n",
    "\n",
    "# Make bivariate scatterplot of age and annual income\n",
    "plot(loan_data$age, loan_data$annual_inc, xlab = \"Age\", ylab = \"Annual Income\")"
   ]
  },
  {
   "cell_type": "code",
   "execution_count": null,
   "metadata": {},
   "outputs": [],
   "source": [
    "# Look at summary of loan_data\n",
    "summary(loan_data$int_rate)\n",
    "\n",
    "# Get indices of missing interest rates: na_index\n",
    "na_index <- which(is.na(loan_data$int_rate))\n",
    "\n",
    "# Remove observations with missing interest rates: loan_data_delrow_na\n",
    "loan_data_delrow_na <- loan_data[-na_index, ]\n",
    "\n",
    "# Make copy of loan_data\n",
    "loan_data_delcol_na <- loan_data\n",
    "\n",
    "# Delete interest rate column from loan_data_delcol_na\n",
    "loan_data_delcol_na$int_rate=NULL"
   ]
  },
  {
   "cell_type": "code",
   "execution_count": null,
   "metadata": {},
   "outputs": [],
   "source": [
    "# Compute the median of int_rate\n",
    "median_ir<-median(loan_data$int_rate,na.rm=T)\n",
    "\n",
    "# Make copy of loan_data\n",
    "loan_data_replace <- loan_data\n",
    "\n",
    "# Replace missing interest rates with median\n",
    "loan_data_replace$int_rate[na_index] <- median_ir\n",
    "\n",
    "# Check if the NAs are gone\n",
    "summary(loan_data_replace$int_rate)"
   ]
  },
  {
   "cell_type": "code",
   "execution_count": null,
   "metadata": {},
   "outputs": [],
   "source": [
    "# Make the necessary replacements in the coarse classification example below \n",
    "loan_data$ir_cat <- rep(NA, length(loan_data$int_rate))\n",
    "\n",
    "loan_data$ir_cat[which(loan_data$int_rate <= 8)] <- \"0-8\"\n",
    "loan_data$ir_cat[which(loan_data$int_rate > 8 & loan_data$int_rate <= 11)] <- \"8-11\"\n",
    "loan_data$ir_cat[which(loan_data$int_rate > 11 & loan_data$int_rate <= 13.5)] <- \"11-13.5\"\n",
    "loan_data$ir_cat[which(loan_data$int_rate > 13.5)] <- \"13.5+\"\n",
    "loan_data$ir_cat[which(is.na(loan_data$int_rate))] <- \"Missing\"\n",
    "\n",
    "loan_data$ir_cat <- as.factor(loan_data$ir_cat)\n",
    "\n",
    "# Look at your new variable using plot()\n",
    "plot(loan_data$ir_cat)"
   ]
  },
  {
   "cell_type": "code",
   "execution_count": null,
   "metadata": {},
   "outputs": [],
   "source": [
    "# Set seed of 567\n",
    "set.seed(567)\n",
    "\n",
    "# Store row numbers for training set: index_train\n",
    "index_train<-sample(1:nrow(loan_data),2 / 3 * nrow(loan_data))\n",
    "\n",
    "# Create training set: training_set\n",
    "training_set <- loan_data[index_train, ]\n",
    "\n",
    "# Create test set: test_set\n",
    "test_set<-loan_data[-index_train, ]"
   ]
  },
  {
   "cell_type": "code",
   "execution_count": null,
   "metadata": {},
   "outputs": [],
   "source": [
    "# Create confusion matrix\n",
    "conf_matrix<-table(test_set$loan_status,model_pred)\n",
    "\n",
    "# Compute classification accuracy\n",
    "(6092+349)/(6092+349+2568+688)\n",
    "\n",
    "# Compute sensitivity\n",
    "(349)/(349+688)"
   ]
  }
 ],
 "metadata": {
  "kernelspec": {
   "display_name": "Python 3",
   "language": "python",
   "name": "python3"
  },
  "language_info": {
   "codemirror_mode": {
    "name": "ipython",
    "version": 3
   },
   "file_extension": ".py",
   "mimetype": "text/x-python",
   "name": "python",
   "nbconvert_exporter": "python",
   "pygments_lexer": "ipython3",
   "version": "3.6.4"
  }
 },
 "nbformat": 4,
 "nbformat_minor": 2
}
